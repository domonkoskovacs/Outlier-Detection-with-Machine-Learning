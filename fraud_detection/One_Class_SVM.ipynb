{
 "cells": [
  {
   "cell_type": "code",
   "execution_count": 7,
   "metadata": {
    "collapsed": true
   },
   "outputs": [],
   "source": [
    "import matplotlib.pyplot as plt\n",
    "import numpy as np\n",
    "import pandas as pd\n",
    "import seaborn as sns\n",
    "from pylab import rcParams\n",
    "from sklearn.metrics import make_scorer\n",
    "from sklearn.model_selection import train_test_split, GridSearchCV\n",
    "from sklearn.preprocessing import MinMaxScaler\n",
    "from sklearn.svm import OneClassSVM\n",
    "\n",
    "rcParams['figure.figsize'] = 14, 8\n",
    "from sklearn.metrics import (confusion_matrix, precision_recall_curve, classification_report, recall_score)"
   ]
  },
  {
   "cell_type": "markdown",
   "source": [
    "#Preprocessing"
   ],
   "metadata": {
    "collapsed": false
   }
  },
  {
   "cell_type": "code",
   "execution_count": 8,
   "outputs": [],
   "source": [
    "def process_and_split_svm_data(sample):\n",
    "    dataframe = pd.read_csv(\"../input/creditcard.csv\")\n",
    "    dataframe.drop('Time', axis=1, inplace=True)\n",
    "    scaler = MinMaxScaler()\n",
    "    df_scaled = pd.DataFrame(scaler.fit_transform(dataframe), columns=dataframe.columns)\n",
    "    if sample:\n",
    "        df_scaled = df_scaled.sample(frac=0.2, random_state=5)\n",
    "    target = df_scaled[\"Class\"]\n",
    "    features = df_scaled.drop(\"Class\", axis=1)\n",
    "    X_train_, X_test_, y_train_, y_test_ = train_test_split(features, target, test_size=0.33, random_state=42)\n",
    "    X_train_good = X_train_[y_train_ == 0]\n",
    "    y_train_good = y_train_[y_train_ == 0]\n",
    "    return X_train_good, y_train_good, X_test_, y_test_"
   ],
   "metadata": {
    "collapsed": false
   }
  },
  {
   "cell_type": "code",
   "execution_count": 9,
   "outputs": [],
   "source": [
    "X_train, y_train, X_test, y_test = process_and_split_svm_data(True)"
   ],
   "metadata": {
    "collapsed": false
   }
  },
  {
   "cell_type": "markdown",
   "source": [
    "#Building the model"
   ],
   "metadata": {
    "collapsed": false
   }
  },
  {
   "cell_type": "code",
   "execution_count": 11,
   "outputs": [],
   "source": [
    "def one_class_get_best_params(X_train_good, y_train_good):\n",
    "    params_grid = {'kernel': ['linear', 'rbf'],\n",
    "              'gamma': ['scale', 'auto'],\n",
    "              'nu': [0.01, 0.1, 0.5]}\n",
    "\n",
    "    grid_cv = GridSearchCV(OneClassSVM(),\n",
    "                           params_grid,\n",
    "                           scoring=make_scorer(recall_score, average='micro'),\n",
    "                           refit=True,\n",
    "                           cv=2,\n",
    "                           return_train_score=True)\n",
    "\n",
    "    grid_cv.fit(X_train_good, y_train_good)\n",
    "    return grid_cv.best_params_,grid_cv.best_estimator_"
   ],
   "metadata": {
    "collapsed": false
   }
  },
  {
   "cell_type": "code",
   "execution_count": 12,
   "outputs": [
    {
     "name": "stderr",
     "output_type": "stream",
     "text": [
      "\n",
      "KeyboardInterrupt\n",
      "\n"
     ]
    }
   ],
   "source": [
    "params,estimator = one_class_get_best_params(X_train,y_train)"
   ],
   "metadata": {
    "collapsed": false
   }
  },
  {
   "cell_type": "code",
   "execution_count": null,
   "outputs": [],
   "source": [
    "params"
   ],
   "metadata": {
    "collapsed": false
   }
  },
  {
   "cell_type": "code",
   "execution_count": null,
   "outputs": [],
   "source": [
    "estimator"
   ],
   "metadata": {
    "collapsed": false
   }
  },
  {
   "cell_type": "code",
   "execution_count": null,
   "outputs": [],
   "source": [
    "#Prediction and Result visualization"
   ],
   "metadata": {
    "collapsed": false
   }
  },
  {
   "cell_type": "code",
   "execution_count": 10,
   "outputs": [],
   "source": [
    "def confusion_heatmap(y_test_param, prediction_param):\n",
    "    cf_matrix = confusion_matrix(y_test_param, prediction_param)\n",
    "    group_names = ['True Neg', 'False Pos', 'False Neg', 'True Pos']\n",
    "    group_counts = [\"{0:0.0f}\".format(value) for value in\n",
    "                    cf_matrix.flatten()]\n",
    "    group_percentages = [\"{0:.2%}\".format(value) for value in\n",
    "                         cf_matrix.flatten() / np.sum(cf_matrix)]\n",
    "    labels = [f\"{v1}\\n{v2}\\n{v3}\" for v1, v2, v3 in\n",
    "              zip(group_names, group_counts, group_percentages)]\n",
    "    labels = np.asarray(labels).reshape(2, 2)\n",
    "    categories = ['Normal', 'Fraud']\n",
    "    sns.heatmap(cf_matrix, annot=labels, fmt='', cmap='Blues', xticklabels=categories, yticklabels=categories)"
   ],
   "metadata": {
    "collapsed": false
   }
  },
  {
   "cell_type": "code",
   "execution_count": null,
   "outputs": [],
   "source": [
    "prediction2 = estimator.predict(X_test)\n",
    "prediction2 = ((prediction2 * -1) + 1) / 2\n",
    "confusion_heatmap(y_test,prediction2)"
   ],
   "metadata": {
    "collapsed": false
   }
  },
  {
   "cell_type": "code",
   "execution_count": null,
   "outputs": [],
   "source": [
    "X_train_full, y_train_full, X_test_full, y_test_full = process_and_split_svm_data(False)"
   ],
   "metadata": {
    "collapsed": false
   }
  },
  {
   "cell_type": "code",
   "execution_count": null,
   "outputs": [],
   "source": [
    "est = OneClassSVM(**params).fit(X_train_full)\n",
    "pred_new = est.predict(X_test_full)\n",
    "pred2_new = ((pred_new * -1) + 1) / 2\n",
    "print(classification_report(y_test_full, pred2_new))"
   ],
   "metadata": {
    "collapsed": false
   }
  },
  {
   "cell_type": "code",
   "execution_count": null,
   "outputs": [],
   "source": [
    "confusion_heatmap(y_test_full,pred2_new)"
   ],
   "metadata": {
    "collapsed": false
   }
  },
  {
   "cell_type": "code",
   "execution_count": null,
   "outputs": [],
   "source": [
    "def visualize_curve(y_test_param,y_pred_param):\n",
    "    precision, recall, th = precision_recall_curve(y_test_param,y_pred_param)\n",
    "    plt.plot(recall, precision, 'b', label='Precision-Recall curve')\n",
    "    plt.title('Precision Recall Curve')\n",
    "    plt.xlabel('Recall')\n",
    "    plt.ylabel('Precision')\n",
    "    plt.show()"
   ],
   "metadata": {
    "collapsed": false
   }
  },
  {
   "cell_type": "code",
   "execution_count": null,
   "outputs": [],
   "source": [
    "visualize_curve(y_test_full, pred2_new)"
   ],
   "metadata": {
    "collapsed": false
   }
  }
 ],
 "metadata": {
  "kernelspec": {
   "display_name": "Python 3",
   "language": "python",
   "name": "python3"
  },
  "language_info": {
   "codemirror_mode": {
    "name": "ipython",
    "version": 2
   },
   "file_extension": ".py",
   "mimetype": "text/x-python",
   "name": "python",
   "nbconvert_exporter": "python",
   "pygments_lexer": "ipython2",
   "version": "2.7.6"
  }
 },
 "nbformat": 4,
 "nbformat_minor": 0
}
